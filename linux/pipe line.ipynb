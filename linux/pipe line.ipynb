{
 "cells": [
  {
   "cell_type": "code",
   "execution_count": 22,
   "metadata": {},
   "outputs": [
    {
     "name": "stdout",
     "output_type": "stream",
     "text": [
      "Study number: 111\n",
      "\n",
      "Date: 2024-03-01 00:00:00\n"
     ]
    }
   ],
   "source": [
    "import os\n",
    "import re\n",
    "from datetime import datetime\n",
    "import nibabel as nib\n",
    "\n",
    "def extract_metadata_and_nifti(full_path):\n",
    "    pattern = re.compile(r\"Study_(\\d+)_(\\d{4})-(\\d{2})-(\\d{2})\")\n",
    "    directory_name = os.path.basename(full_path)\n",
    "\n",
    "    match = pattern.match(directory_name)\n",
    "    if not match:\n",
    "        raise ValueError(\"The provided path does not match the expected directory name format.\")\n",
    "\n",
    "    study_number = int(match.group(1))\n",
    "    year = int(match.group(2))\n",
    "    month = int(match.group(3))\n",
    "    day = int(match.group(4))\n",
    "    date = datetime(year, month, day)\n",
    "\n",
    "    files_in_dir = os.listdir(full_path)\n",
    "    if len(files_in_dir) != 1:\n",
    "        raise ValueError(f\"Expected exactly one file in the directory, but found {len(files_in_dir)}.\")\n",
    "\n",
    "    nifti_file_path = os.path.join(full_path, files_in_dir[0])\n",
    "    nifti_file = nib.load(nifti_file_path)\n",
    "    print(f'Study number: {study_number}\\n\\nDate: {date}')\n",
    "\n",
    "    return study_number, date, nifti_file\n"
   ]
  },
  {
   "cell_type": "code",
   "execution_count": 24,
   "metadata": {},
   "outputs": [
    {
     "name": "stdout",
     "output_type": "stream",
     "text": [
      "Study number: 111\n",
      "\n",
      "Date: 2024-03-01 00:00:00\n"
     ]
    }
   ],
   "source": [
    "# Example usage\n",
    "full_path = r\"C:\\Users\\Yarden\\University\\final project\\FinalProject\\linux\\nifti\\Study_111_2024-03-01\"\n",
    "study_number, date, nifti_file = extract_metadata_and_nifti(full_path)"
   ]
  },
  {
   "cell_type": "code",
   "execution_count": 25,
   "metadata": {},
   "outputs": [
    {
     "ename": "ValueError",
     "evalue": "Expected exactly one file in the directory, but found 0.",
     "output_type": "error",
     "traceback": [
      "\u001b[1;31m---------------------------------------------------------------------------\u001b[0m",
      "\u001b[1;31mValueError\u001b[0m                                Traceback (most recent call last)",
      "Input \u001b[1;32mIn [25]\u001b[0m, in \u001b[0;36m<cell line: 3>\u001b[1;34m()\u001b[0m\n\u001b[0;32m      1\u001b[0m \u001b[38;5;66;03m# Example usage\u001b[39;00m\n\u001b[0;32m      2\u001b[0m full_path \u001b[38;5;241m=\u001b[39m \u001b[38;5;124mr\u001b[39m\u001b[38;5;124m\"\u001b[39m\u001b[38;5;124mC:\u001b[39m\u001b[38;5;124m\\\u001b[39m\u001b[38;5;124mUsers\u001b[39m\u001b[38;5;124m\\\u001b[39m\u001b[38;5;124mYarden\u001b[39m\u001b[38;5;124m\\\u001b[39m\u001b[38;5;124mUniversity\u001b[39m\u001b[38;5;124m\\\u001b[39m\u001b[38;5;124mfinal project\u001b[39m\u001b[38;5;124m\\\u001b[39m\u001b[38;5;124mFinalProject\u001b[39m\u001b[38;5;124m\\\u001b[39m\u001b[38;5;124mlinux\u001b[39m\u001b[38;5;124m\\\u001b[39m\u001b[38;5;124mnifti\u001b[39m\u001b[38;5;124m\\\u001b[39m\u001b[38;5;124mStudy_111_2024-06-01\u001b[39m\u001b[38;5;124m\"\u001b[39m\n\u001b[1;32m----> 3\u001b[0m study_number, date, nifti_file \u001b[38;5;241m=\u001b[39m \u001b[43mextract_metadata_and_nifti\u001b[49m\u001b[43m(\u001b[49m\u001b[43mfull_path\u001b[49m\u001b[43m)\u001b[49m\n",
      "Input \u001b[1;32mIn [22]\u001b[0m, in \u001b[0;36mextract_metadata_and_nifti\u001b[1;34m(full_path)\u001b[0m\n\u001b[0;32m     21\u001b[0m files_in_dir \u001b[38;5;241m=\u001b[39m os\u001b[38;5;241m.\u001b[39mlistdir(full_path)\n\u001b[0;32m     22\u001b[0m \u001b[38;5;28;01mif\u001b[39;00m \u001b[38;5;28mlen\u001b[39m(files_in_dir) \u001b[38;5;241m!=\u001b[39m \u001b[38;5;241m1\u001b[39m:\n\u001b[1;32m---> 23\u001b[0m     \u001b[38;5;28;01mraise\u001b[39;00m \u001b[38;5;167;01mValueError\u001b[39;00m(\u001b[38;5;124mf\u001b[39m\u001b[38;5;124m\"\u001b[39m\u001b[38;5;124mExpected exactly one file in the directory, but found \u001b[39m\u001b[38;5;132;01m{\u001b[39;00m\u001b[38;5;28mlen\u001b[39m(files_in_dir)\u001b[38;5;132;01m}\u001b[39;00m\u001b[38;5;124m.\u001b[39m\u001b[38;5;124m\"\u001b[39m)\n\u001b[0;32m     25\u001b[0m \u001b[38;5;66;03m# Load the NIfTI file\u001b[39;00m\n\u001b[0;32m     26\u001b[0m nifti_file_path \u001b[38;5;241m=\u001b[39m os\u001b[38;5;241m.\u001b[39mpath\u001b[38;5;241m.\u001b[39mjoin(full_path, files_in_dir[\u001b[38;5;241m0\u001b[39m])\n",
      "\u001b[1;31mValueError\u001b[0m: Expected exactly one file in the directory, but found 0."
     ]
    }
   ],
   "source": [
    "# Example usage\n",
    "full_path = r\"C:\\Users\\Yarden\\University\\final project\\FinalProject\\linux\\nifti\\Study_111_2024-06-01\"\n",
    "study_number, date, nifti_file = extract_metadata_and_nifti(full_path)"
   ]
  },
  {
   "cell_type": "code",
   "execution_count": 26,
   "metadata": {},
   "outputs": [
    {
     "ename": "ValueError",
     "evalue": "The provided path does not match the expected directory name format.",
     "output_type": "error",
     "traceback": [
      "\u001b[1;31m---------------------------------------------------------------------------\u001b[0m",
      "\u001b[1;31mValueError\u001b[0m                                Traceback (most recent call last)",
      "Input \u001b[1;32mIn [26]\u001b[0m, in \u001b[0;36m<cell line: 3>\u001b[1;34m()\u001b[0m\n\u001b[0;32m      1\u001b[0m \u001b[38;5;66;03m# Example usage\u001b[39;00m\n\u001b[0;32m      2\u001b[0m full_path \u001b[38;5;241m=\u001b[39m \u001b[38;5;124mr\u001b[39m\u001b[38;5;124m\"\u001b[39m\u001b[38;5;124mC:\u001b[39m\u001b[38;5;124m\\\u001b[39m\u001b[38;5;124mUsers\u001b[39m\u001b[38;5;124m\\\u001b[39m\u001b[38;5;124mYarden\u001b[39m\u001b[38;5;124m\\\u001b[39m\u001b[38;5;124mUniversity\u001b[39m\u001b[38;5;124m\\\u001b[39m\u001b[38;5;124mfinal project\u001b[39m\u001b[38;5;124m\\\u001b[39m\u001b[38;5;124mFinalProject\u001b[39m\u001b[38;5;124m\\\u001b[39m\u001b[38;5;124mlinux\u001b[39m\u001b[38;5;124m\\\u001b[39m\u001b[38;5;124mnifti\u001b[39m\u001b[38;5;124m\\\u001b[39m\u001b[38;5;124mStudy_111_20244-03-01\u001b[39m\u001b[38;5;124m\"\u001b[39m\n\u001b[1;32m----> 3\u001b[0m study_number, date, nifti_file \u001b[38;5;241m=\u001b[39m \u001b[43mextract_metadata_and_nifti\u001b[49m\u001b[43m(\u001b[49m\u001b[43mfull_path\u001b[49m\u001b[43m)\u001b[49m\n",
      "Input \u001b[1;32mIn [22]\u001b[0m, in \u001b[0;36mextract_metadata_and_nifti\u001b[1;34m(full_path)\u001b[0m\n\u001b[0;32m     10\u001b[0m match \u001b[38;5;241m=\u001b[39m pattern\u001b[38;5;241m.\u001b[39mmatch(directory_name)\n\u001b[0;32m     11\u001b[0m \u001b[38;5;28;01mif\u001b[39;00m \u001b[38;5;129;01mnot\u001b[39;00m match:\n\u001b[1;32m---> 12\u001b[0m     \u001b[38;5;28;01mraise\u001b[39;00m \u001b[38;5;167;01mValueError\u001b[39;00m(\u001b[38;5;124m\"\u001b[39m\u001b[38;5;124mThe provided path does not match the expected directory name format.\u001b[39m\u001b[38;5;124m\"\u001b[39m)\n\u001b[0;32m     14\u001b[0m study_number \u001b[38;5;241m=\u001b[39m \u001b[38;5;28mint\u001b[39m(match\u001b[38;5;241m.\u001b[39mgroup(\u001b[38;5;241m1\u001b[39m))\n\u001b[0;32m     15\u001b[0m year \u001b[38;5;241m=\u001b[39m \u001b[38;5;28mint\u001b[39m(match\u001b[38;5;241m.\u001b[39mgroup(\u001b[38;5;241m2\u001b[39m))\n",
      "\u001b[1;31mValueError\u001b[0m: The provided path does not match the expected directory name format."
     ]
    }
   ],
   "source": [
    "# Example usage\n",
    "full_path = r\"C:\\Users\\Yarden\\University\\final project\\FinalProject\\linux\\nifti\\Study_111_20244-03-01\"\n",
    "study_number, date, nifti_file = extract_metadata_and_nifti(full_path)"
   ]
  },
  {
   "cell_type": "code",
   "execution_count": null,
   "metadata": {},
   "outputs": [],
   "source": []
  }
 ],
 "metadata": {
  "kernelspec": {
   "display_name": "Python 3",
   "language": "python",
   "name": "python3"
  },
  "language_info": {
   "codemirror_mode": {
    "name": "ipython",
    "version": 3
   },
   "file_extension": ".py",
   "mimetype": "text/x-python",
   "name": "python",
   "nbconvert_exporter": "python",
   "pygments_lexer": "ipython3",
   "version": "3.10.4"
  }
 },
 "nbformat": 4,
 "nbformat_minor": 2
}
